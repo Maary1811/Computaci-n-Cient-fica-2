{
 "cells": [
  {
   "cell_type": "markdown",
   "id": "0c29d87b-b2c2-4395-8e62-189f9aa10c96",
   "metadata": {},
   "source": [
    "# Trabajo 2 - Corte 3\n",
    "## Computación 2\n",
    "# Mariana Rodríguez Pérez"
   ]
  },
  {
   "cell_type": "code",
   "execution_count": 59,
   "id": "3eb4db5a-0270-418c-bf08-93b2656befcb",
   "metadata": {},
   "outputs": [],
   "source": [
    "import sqlite3\n",
    "class PersonRepository:\n",
    "    table = \"Person\"\n",
    "    def __init__(self, db_path):\n",
    "        self.__connection = sqlite3.connect(db_path)\n",
    "        self.__connection.row_factory = sqlite3.Row  # Para acceder a los datos como diccionario\n",
    "    \n",
    "    def add_person(self, name: str, last_name: str, age: int, city: str) -> int:\n",
    "        try:\n",
    "            cursor = self.__connection.cursor()\n",
    "            query = f\"INSERT INTO {self.table} (name, last_name, age, city) VALUES (?, ?, ?, ?)\"\n",
    "            cursor.execute(query, (name, last_name, age, city))\n",
    "            self.__connection.commit()\n",
    "            return cursor.lastrowid\n",
    "        except Exception as e:\n",
    "            print(f\"Error adding person: {e}\")\n",
    "        return -1\n",
    "            \n",
    "\n",
    "    def get_person_by_id(self, person_id: int) -> dict:\n",
    "        try:\n",
    "            cursor = self.__connection.cursor()\n",
    "            query = f\"SELECT * FROM {self.table} WHERE id = ?\"\n",
    "            cursor.execute(query, (person_id,))\n",
    "            row = cursor.fetchone()\n",
    "            return dict(row) if row else {}\n",
    "        except Exception as e:\n",
    "            print(f\"Error getting person by ID: {e}\")\n",
    "            return {}\n",
    "    \n",
    "    def get_all_people(self) -> list:\n",
    "        try:\n",
    "            cursor = self.__connection.cursor()\n",
    "            query = f\"SELECT * FROM {self.table}\"\n",
    "            cursor.execute(query)\n",
    "            rows = cursor.fetchall()\n",
    "            return [dict(row) for row in rows]\n",
    "        except Exception as e:\n",
    "            print(f\"Error getting all people: {e}\")\n",
    "            return []\n",
    "    \n",
    "    def update_person(self, person_id: int, name: str, last_name: str, age: int, city: str) -> bool:\n",
    "        try:\n",
    "            cursor = self.__connection.cursor()\n",
    "            query = f\"UPDATE {self.table} SET name = ?, last_name = ?, age = ?, city = ? WHERE id = ?\"\n",
    "            cursor.execute(query, (name, last_name, age, city, person_id))\n",
    "            self.__connection.commit()\n",
    "            return cursor.rowcount > 0\n",
    "        except Exception as e:\n",
    "            print(f\"Error updating person: {e}\")\n",
    "            return False\n",
    "    \n",
    "    def delete_person(self, person_id: int) -> bool:\n",
    "        try:\n",
    "            cursor = self.__connection.cursor()\n",
    "            query = f\"DELETE FROM {self.table} WHERE id = ?\"\n",
    "            cursor.execute(query, (person_id,))\n",
    "            self.__connection.commit()\n",
    "            return cursor.rowcount > 0\n",
    "        except Exception as e:\n",
    "            print(f\"Error deleting person: {e}\")\n",
    "            return False\n",
    "database_path = \"C:\\\\Users\\\\Usuario\\\\Desktop\"\n",
    "database_name = \"simple_person.db\"\n",
    "db_path = f\"{database_path}\\\\{database_name}\"\n",
    "\n",
    "repo = PersonRepository(db_path)\n"
   ]
  },
  {
   "cell_type": "code",
   "execution_count": 68,
   "id": "57dce355-15e0-4fd0-9553-26a2d28ae44a",
   "metadata": {},
   "outputs": [
    {
     "name": "stdout",
     "output_type": "stream",
     "text": [
      "\n",
      "==== INSERTAR VARIAS PERSONAS (MODO INTERACTIVO) ====\n"
     ]
    },
    {
     "name": "stdin",
     "output_type": "stream",
     "text": [
      "Nombre:  Harry\n",
      "Apellido:  Potter\n",
      "Edad:  21\n",
      "Ciudad:  Bogota\n"
     ]
    },
    {
     "name": "stdout",
     "output_type": "stream",
     "text": [
      "✅ Persona insertada con ID: 13\n"
     ]
    },
    {
     "name": "stdin",
     "output_type": "stream",
     "text": [
      "¿Desea insertar otra persona? (s/n):  si\n"
     ]
    }
   ],
   "source": [
    "print(\"\\n==== INSERTAR VARIAS PERSONAS (MODO INTERACTIVO) ====\")\n",
    "while True:\n",
    "    try:\n",
    "        name = input(\"Nombre: \")\n",
    "        last_name = input(\"Apellido: \")\n",
    "        age = int(input(\"Edad: \"))\n",
    "        city = input(\"Ciudad: \")\n",
    "\n",
    "        inserted_id = repo.add_person(name, last_name, age, city)  # 👈 sin ID\n",
    "        if inserted_id != -1:\n",
    "            print(f\"✅ Persona insertada con ID: {inserted_id}\")\n",
    "        else:\n",
    "            print(\"⚠️ No se pudo insertar la persona.\")\n",
    "\n",
    "    except ValueError:\n",
    "        print(\"⚠️ Error: La edad debe ser un número entero.\")\n",
    "\n",
    "    continuar = input(\"¿Desea insertar otra persona? (s/n): \").strip().lower()\n",
    "    if continuar != 's':\n",
    "        break"
   ]
  },
  {
   "cell_type": "code",
   "execution_count": 70,
   "id": "24ca0ead-26af-4651-b571-55cc50f00863",
   "metadata": {},
   "outputs": [
    {
     "name": "stdout",
     "output_type": "stream",
     "text": [
      "\n",
      "==== PRUEBA: Obtener persona por ID ====\n"
     ]
    },
    {
     "name": "stdin",
     "output_type": "stream",
     "text": [
      "Ingrese el ID de la persona que desea buscar:  13\n"
     ]
    },
    {
     "name": "stdout",
     "output_type": "stream",
     "text": [
      "Persona encontrada: {'id': 13, 'name': 'Harry', 'last_name': 'Potter', 'age': 21, 'city': 'Bogota'}\n"
     ]
    }
   ],
   "source": [
    "print(\"\\n==== PRUEBA: Obtener persona por ID ====\")\n",
    "try:\n",
    "    input_id = int(input(\"Ingrese el ID de la persona que desea buscar: \"))\n",
    "    persona = repo.get_person_by_id(input_id)\n",
    "    if persona:\n",
    "        print(\"Persona encontrada:\", persona)\n",
    "    else:\n",
    "        print(\"No se encontró ninguna persona con ese ID.\")\n",
    "except ValueError:\n",
    "    print(\"⚠️ El ID debe ser un número entero.\")\n"
   ]
  },
  {
   "cell_type": "code",
   "execution_count": 72,
   "id": "4231f6c2-954e-4266-b991-3357f76ce581",
   "metadata": {},
   "outputs": [
    {
     "name": "stdout",
     "output_type": "stream",
     "text": [
      "\n",
      "==== PRUEBA: Obtener todas las personas ====\n",
      "{'id': 1, 'name': 'Mario', 'last_name': 'Bross', 'age': 50, 'city': 'Bogota'}\n",
      "{'id': 2, 'name': 'Luigi', 'last_name': 'Bross', 'age': 40, 'city': 'Medellin'}\n",
      "{'id': 3, 'name': 'Donkey', 'last_name': 'Kong', 'age': 20, 'city': 'Cartagena'}\n",
      "{'id': 4, 'name': 'Bowser', 'last_name': 'Evil', 'age': 70, 'city': 'Bogota'}\n",
      "{'id': 5, 'name': 'Peach', 'last_name': 'Princess', 'age': 25, 'city': 'Barranquilla'}\n",
      "{'id': 6, 'name': 'Warrio', 'last_name': 'Bross', 'age': 45, 'city': 'Santa Marta'}\n",
      "{'id': 13, 'name': 'Harry', 'last_name': 'Potter', 'age': 21, 'city': 'Bogota'}\n"
     ]
    }
   ],
   "source": [
    "print(\"\\n==== PRUEBA: Obtener todas las personas ====\")\n",
    "personas = repo.get_all_people()\n",
    "for p in personas:\n",
    "    print(p)"
   ]
  },
  {
   "cell_type": "code",
   "execution_count": 74,
   "id": "3a18e725-3aff-409d-ae2d-5f1478e00e0f",
   "metadata": {},
   "outputs": [
    {
     "name": "stdout",
     "output_type": "stream",
     "text": [
      "\n",
      "==== ACTUALIZAR PERSONA (INGRESADA POR USUARIO) ====\n"
     ]
    },
    {
     "name": "stdin",
     "output_type": "stream",
     "text": [
      "Ingrese el ID de la persona que desea actualizar:  13\n",
      "Nuevo nombre:  Tom \n",
      "Nuevo apellido:  Riddle\n",
      "Nueva edad:  32\n",
      "Nueva ciudad:  Medellin\n"
     ]
    },
    {
     "name": "stdout",
     "output_type": "stream",
     "text": [
      "¿Actualización exitosa? True\n",
      "Persona actualizada: {'id': 13, 'name': 'Tom ', 'last_name': 'Riddle', 'age': 32, 'city': 'Medellin'}\n"
     ]
    }
   ],
   "source": [
    "print(\"\\n==== ACTUALIZAR PERSONA (INGRESADA POR USUARIO) ====\")\n",
    "try:\n",
    "    person_id = int(input(\"Ingrese el ID de la persona que desea actualizar: \"))\n",
    "    new_name = input(\"Nuevo nombre: \")\n",
    "    new_last_name = input(\"Nuevo apellido: \")\n",
    "    new_age = int(input(\"Nueva edad: \"))\n",
    "    new_city = input(\"Nueva ciudad: \")\n",
    "\n",
    "    actualizado = repo.update_person(person_id, new_name, new_last_name, new_age, new_city)\n",
    "    print(\"¿Actualización exitosa?\", actualizado)\n",
    "    if actualizado:\n",
    "        print(\"Persona actualizada:\", repo.get_person_by_id(person_id))\n",
    "    else:\n",
    "        print(\"⚠️ No se encontró ninguna persona con ese ID para actualizar.\")\n",
    "except ValueError:\n",
    "    print(\"⚠️ Los datos ingresados no son válidos. Asegúrate de usar números para el ID y la edad.\")\n"
   ]
  },
  {
   "cell_type": "code",
   "execution_count": 78,
   "id": "2f30ce2d-994d-4b25-9fe8-94b7a66212a2",
   "metadata": {},
   "outputs": [
    {
     "name": "stdout",
     "output_type": "stream",
     "text": [
      "\n",
      "==== ELIMINAR PERSONA (INGRESADA POR USUARIO) ====\n"
     ]
    },
    {
     "name": "stdin",
     "output_type": "stream",
     "text": [
      "Ingrese el ID de la persona que desea eliminar:  6\n"
     ]
    },
    {
     "name": "stdout",
     "output_type": "stream",
     "text": [
      "¿Eliminación exitosa? True\n"
     ]
    }
   ],
   "source": [
    "print(\"\\n==== ELIMINAR PERSONA (INGRESADA POR USUARIO) ====\")\n",
    "try:\n",
    "    person_id = int(input(\"Ingrese el ID de la persona que desea eliminar: \"))\n",
    "    eliminado = repo.delete_person(person_id)\n",
    "    print(\"¿Eliminación exitosa?\", eliminado)\n",
    "\n",
    "    if not eliminado:\n",
    "        print(\"⚠️ No se encontró ninguna persona con ese ID para eliminar.\")\n",
    "except ValueError:\n",
    "    print(\"⚠️ El ID debe ser un número entero.\")\n"
   ]
  },
  {
   "cell_type": "code",
   "execution_count": 80,
   "id": "c99bec70-e4cd-4009-bdc2-1e6e985d295c",
   "metadata": {},
   "outputs": [
    {
     "name": "stdout",
     "output_type": "stream",
     "text": [
      "\n",
      "==== LISTADO FINAL ====\n",
      "{'id': 1, 'name': 'Mario', 'last_name': 'Bross', 'age': 50, 'city': 'Bogota'}\n",
      "{'id': 2, 'name': 'Luigi', 'last_name': 'Bross', 'age': 40, 'city': 'Medellin'}\n",
      "{'id': 3, 'name': 'Donkey', 'last_name': 'Kong', 'age': 20, 'city': 'Cartagena'}\n",
      "{'id': 4, 'name': 'Bowser', 'last_name': 'Evil', 'age': 70, 'city': 'Bogota'}\n",
      "{'id': 5, 'name': 'Peach', 'last_name': 'Princess', 'age': 25, 'city': 'Barranquilla'}\n",
      "{'id': 13, 'name': 'Tom ', 'last_name': 'Riddle', 'age': 32, 'city': 'Medellin'}\n"
     ]
    }
   ],
   "source": [
    "print(\"\\n==== LISTADO FINAL ====\")\n",
    "personas = repo.get_all_people()\n",
    "for p in personas:\n",
    "    print(p)"
   ]
  }
 ],
 "metadata": {
  "kernelspec": {
   "display_name": "Python 3 (ipykernel)",
   "language": "python",
   "name": "python3"
  },
  "language_info": {
   "codemirror_mode": {
    "name": "ipython",
    "version": 3
   },
   "file_extension": ".py",
   "mimetype": "text/x-python",
   "name": "python",
   "nbconvert_exporter": "python",
   "pygments_lexer": "ipython3",
   "version": "3.12.7"
  }
 },
 "nbformat": 4,
 "nbformat_minor": 5
}
